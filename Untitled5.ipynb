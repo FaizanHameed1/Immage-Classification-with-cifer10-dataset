{
  "nbformat": 4,
  "nbformat_minor": 0,
  "metadata": {
    "colab": {
      "name": "Untitled5.ipynb",
      "provenance": [],
      "collapsed_sections": []
    },
    "kernelspec": {
      "display_name": "Python 3",
      "name": "python3"
    },
    "language_info": {
      "name": "python"
    }
  },
  "cells": [
    {
      "cell_type": "code",
      "metadata": {
        "id": "GETlrUtOrI1W"
      },
      "source": [
        "import pandas as pd\n",
        "import numpy as np\n",
        "import cv2\n",
        "import matplotlib.pyplot as plt\n",
        "import random\n",
        "%matplotlib inline"
      ],
      "execution_count": 2,
      "outputs": []
    },
    {
      "cell_type": "code",
      "metadata": {
        "id": "ykNWg8dQu6eB"
      },
      "source": [
        "from keras.datasets import cifar10\n",
        "from keras.models import Sequential\n",
        "from keras.utils import np_utils\n",
        "from tensorflow.keras.utils import to_categorical\n",
        "from keras.layers import Dense, Dropout, Conv2D, Flatten,MaxPooling2D, BatchNormalization, Activation\n"
      ],
      "execution_count": 3,
      "outputs": []
    },
    {
      "cell_type": "code",
      "metadata": {
        "colab": {
          "base_uri": "https://localhost:8080/"
        },
        "id": "MR4TAuyAu_-F",
        "outputId": "af307f0a-61aa-4d4e-b063-d8a9d831052f"
      },
      "source": [
        "#Lets load the dataset\n",
        "(x_train, y_train), (x_test, y_test) = cifar10.load_data()"
      ],
      "execution_count": 4,
      "outputs": [
        {
          "output_type": "stream",
          "text": [
            "Downloading data from https://www.cs.toronto.edu/~kriz/cifar-10-python.tar.gz\n",
            "170500096/170498071 [==============================] - 2s 0us/step\n",
            "170508288/170498071 [==============================] - 2s 0us/step\n"
          ],
          "name": "stdout"
        }
      ]
    },
    {
      "cell_type": "code",
      "metadata": {
        "colab": {
          "base_uri": "https://localhost:8080/"
        },
        "id": "MBaLNbYomGUB",
        "outputId": "ab8d5a0e-398c-4652-82ae-b5eca42a6693"
      },
      "source": [
        "x_test.shape"
      ],
      "execution_count": 5,
      "outputs": [
        {
          "output_type": "execute_result",
          "data": {
            "text/plain": [
              "(10000, 32, 32, 3)"
            ]
          },
          "metadata": {},
          "execution_count": 5
        }
      ]
    },
    {
      "cell_type": "code",
      "metadata": {
        "colab": {
          "base_uri": "https://localhost:8080/"
        },
        "id": "3_xh4pj-vYzt",
        "outputId": "e8b7e62e-57b8-4edb-8bb0-ff5695be47d7"
      },
      "source": [
        "print(f\"shape of x_train: {x_train.shape}\")\n",
        "print(f\"shape of y_train: {y_train.shape}\")\n",
        "print(f\"shape of x_test: {x_test.shape}\")\n",
        "print(f\"shape of y_test: {y_test.shape}\")"
      ],
      "execution_count": 6,
      "outputs": [
        {
          "output_type": "stream",
          "text": [
            "shape of x_train: (50000, 32, 32, 3)\n",
            "shape of y_train: (50000, 1)\n",
            "shape of x_test: (10000, 32, 32, 3)\n",
            "shape of y_test: (10000, 1)\n"
          ],
          "name": "stdout"
        }
      ]
    },
    {
      "cell_type": "markdown",
      "metadata": {
        "id": "50eBsN_bmfTb"
      },
      "source": [
        "We can see that total number of immages in x_train are 5000 and have shape of 32x32 with three colours(RGB)."
      ]
    },
    {
      "cell_type": "code",
      "metadata": {
        "colab": {
          "base_uri": "https://localhost:8080/"
        },
        "id": "3xo9u2vPb1mP",
        "outputId": "2e18560b-cfc0-4825-ddf9-4737853e7e83"
      },
      "source": [
        "#checking the type\n",
        "print(f\"type of y_train:{type(y_train)}\")\n",
        "print(f\"type of x_train:{type(x_train)}\")\n",
        "print(f\"type of y_test:{type(y_test)}\")\n",
        "print(f\"type of x_test:{type(x_test)}\")"
      ],
      "execution_count": 7,
      "outputs": [
        {
          "output_type": "stream",
          "text": [
            "type of y_train:<class 'numpy.ndarray'>\n",
            "type of x_train:<class 'numpy.ndarray'>\n",
            "type of y_test:<class 'numpy.ndarray'>\n",
            "type of x_test:<class 'numpy.ndarray'>\n"
          ],
          "name": "stdout"
        }
      ]
    },
    {
      "cell_type": "code",
      "metadata": {
        "colab": {
          "base_uri": "https://localhost:8080/"
        },
        "id": "oz891_hjc1Xy",
        "outputId": "71781db2-2682-42f7-ce0f-710dce86298f"
      },
      "source": [
        "x_test[0:2]"
      ],
      "execution_count": 8,
      "outputs": [
        {
          "output_type": "execute_result",
          "data": {
            "text/plain": [
              "array([[[[158, 112,  49],\n",
              "         [159, 111,  47],\n",
              "         [165, 116,  51],\n",
              "         ...,\n",
              "         [137,  95,  36],\n",
              "         [126,  91,  36],\n",
              "         [116,  85,  33]],\n",
              "\n",
              "        [[152, 112,  51],\n",
              "         [151, 110,  40],\n",
              "         [159, 114,  45],\n",
              "         ...,\n",
              "         [136,  95,  31],\n",
              "         [125,  91,  32],\n",
              "         [119,  88,  34]],\n",
              "\n",
              "        [[151, 110,  47],\n",
              "         [151, 109,  33],\n",
              "         [158, 111,  36],\n",
              "         ...,\n",
              "         [139,  98,  34],\n",
              "         [130,  95,  34],\n",
              "         [120,  89,  33]],\n",
              "\n",
              "        ...,\n",
              "\n",
              "        [[ 68, 124, 177],\n",
              "         [ 42, 100, 148],\n",
              "         [ 31,  88, 137],\n",
              "         ...,\n",
              "         [ 38,  97, 146],\n",
              "         [ 13,  64, 108],\n",
              "         [ 40,  85, 127]],\n",
              "\n",
              "        [[ 61, 116, 168],\n",
              "         [ 49, 102, 148],\n",
              "         [ 35,  85, 132],\n",
              "         ...,\n",
              "         [ 26,  82, 130],\n",
              "         [ 29,  82, 126],\n",
              "         [ 20,  64, 107]],\n",
              "\n",
              "        [[ 54, 107, 160],\n",
              "         [ 56, 105, 149],\n",
              "         [ 45,  89, 132],\n",
              "         ...,\n",
              "         [ 24,  77, 124],\n",
              "         [ 34,  84, 129],\n",
              "         [ 21,  67, 110]]],\n",
              "\n",
              "\n",
              "       [[[235, 235, 235],\n",
              "         [231, 231, 231],\n",
              "         [232, 232, 232],\n",
              "         ...,\n",
              "         [233, 233, 233],\n",
              "         [233, 233, 233],\n",
              "         [232, 232, 232]],\n",
              "\n",
              "        [[238, 238, 238],\n",
              "         [235, 235, 235],\n",
              "         [235, 235, 235],\n",
              "         ...,\n",
              "         [236, 236, 236],\n",
              "         [236, 236, 236],\n",
              "         [235, 235, 235]],\n",
              "\n",
              "        [[237, 237, 237],\n",
              "         [234, 234, 234],\n",
              "         [234, 234, 234],\n",
              "         ...,\n",
              "         [235, 235, 235],\n",
              "         [235, 235, 235],\n",
              "         [234, 234, 234]],\n",
              "\n",
              "        ...,\n",
              "\n",
              "        [[ 87,  99,  89],\n",
              "         [ 43,  51,  37],\n",
              "         [ 19,  23,  11],\n",
              "         ...,\n",
              "         [169, 184, 179],\n",
              "         [182, 197, 193],\n",
              "         [188, 202, 201]],\n",
              "\n",
              "        [[ 82,  96,  82],\n",
              "         [ 46,  57,  36],\n",
              "         [ 36,  44,  22],\n",
              "         ...,\n",
              "         [174, 189, 183],\n",
              "         [185, 200, 196],\n",
              "         [187, 202, 200]],\n",
              "\n",
              "        [[ 85, 101,  83],\n",
              "         [ 62,  75,  48],\n",
              "         [ 58,  67,  38],\n",
              "         ...,\n",
              "         [168, 183, 178],\n",
              "         [180, 195, 191],\n",
              "         [186, 200, 199]]]], dtype=uint8)"
            ]
          },
          "metadata": {},
          "execution_count": 8
        }
      ]
    },
    {
      "cell_type": "code",
      "metadata": {
        "colab": {
          "base_uri": "https://localhost:8080/"
        },
        "id": "s9_oN2gAdBez",
        "outputId": "736d4ffb-0e4c-452d-c8b4-bafed891e7f0"
      },
      "source": [
        "y_test[0:2]"
      ],
      "execution_count": 9,
      "outputs": [
        {
          "output_type": "execute_result",
          "data": {
            "text/plain": [
              "array([[3],\n",
              "       [8]], dtype=uint8)"
            ]
          },
          "metadata": {},
          "execution_count": 9
        }
      ]
    },
    {
      "cell_type": "code",
      "metadata": {
        "colab": {
          "base_uri": "https://localhost:8080/"
        },
        "id": "klMFxOgTcjh7",
        "outputId": "00e23505-6819-4cc9-eaa7-ced6915e86b1"
      },
      "source": [
        "x_train[0:2]"
      ],
      "execution_count": 10,
      "outputs": [
        {
          "output_type": "execute_result",
          "data": {
            "text/plain": [
              "array([[[[ 59,  62,  63],\n",
              "         [ 43,  46,  45],\n",
              "         [ 50,  48,  43],\n",
              "         ...,\n",
              "         [158, 132, 108],\n",
              "         [152, 125, 102],\n",
              "         [148, 124, 103]],\n",
              "\n",
              "        [[ 16,  20,  20],\n",
              "         [  0,   0,   0],\n",
              "         [ 18,   8,   0],\n",
              "         ...,\n",
              "         [123,  88,  55],\n",
              "         [119,  83,  50],\n",
              "         [122,  87,  57]],\n",
              "\n",
              "        [[ 25,  24,  21],\n",
              "         [ 16,   7,   0],\n",
              "         [ 49,  27,   8],\n",
              "         ...,\n",
              "         [118,  84,  50],\n",
              "         [120,  84,  50],\n",
              "         [109,  73,  42]],\n",
              "\n",
              "        ...,\n",
              "\n",
              "        [[208, 170,  96],\n",
              "         [201, 153,  34],\n",
              "         [198, 161,  26],\n",
              "         ...,\n",
              "         [160, 133,  70],\n",
              "         [ 56,  31,   7],\n",
              "         [ 53,  34,  20]],\n",
              "\n",
              "        [[180, 139,  96],\n",
              "         [173, 123,  42],\n",
              "         [186, 144,  30],\n",
              "         ...,\n",
              "         [184, 148,  94],\n",
              "         [ 97,  62,  34],\n",
              "         [ 83,  53,  34]],\n",
              "\n",
              "        [[177, 144, 116],\n",
              "         [168, 129,  94],\n",
              "         [179, 142,  87],\n",
              "         ...,\n",
              "         [216, 184, 140],\n",
              "         [151, 118,  84],\n",
              "         [123,  92,  72]]],\n",
              "\n",
              "\n",
              "       [[[154, 177, 187],\n",
              "         [126, 137, 136],\n",
              "         [105, 104,  95],\n",
              "         ...,\n",
              "         [ 91,  95,  71],\n",
              "         [ 87,  90,  71],\n",
              "         [ 79,  81,  70]],\n",
              "\n",
              "        [[140, 160, 169],\n",
              "         [145, 153, 154],\n",
              "         [125, 125, 118],\n",
              "         ...,\n",
              "         [ 96,  99,  78],\n",
              "         [ 77,  80,  62],\n",
              "         [ 71,  73,  61]],\n",
              "\n",
              "        [[140, 155, 164],\n",
              "         [139, 146, 149],\n",
              "         [115, 115, 112],\n",
              "         ...,\n",
              "         [ 79,  82,  64],\n",
              "         [ 68,  70,  55],\n",
              "         [ 67,  69,  55]],\n",
              "\n",
              "        ...,\n",
              "\n",
              "        [[175, 167, 166],\n",
              "         [156, 154, 160],\n",
              "         [154, 160, 170],\n",
              "         ...,\n",
              "         [ 42,  34,  36],\n",
              "         [ 61,  53,  57],\n",
              "         [ 93,  83,  91]],\n",
              "\n",
              "        [[165, 154, 128],\n",
              "         [156, 152, 130],\n",
              "         [159, 161, 142],\n",
              "         ...,\n",
              "         [103,  93,  96],\n",
              "         [123, 114, 120],\n",
              "         [131, 121, 131]],\n",
              "\n",
              "        [[163, 148, 120],\n",
              "         [158, 148, 122],\n",
              "         [163, 156, 133],\n",
              "         ...,\n",
              "         [143, 133, 139],\n",
              "         [143, 134, 142],\n",
              "         [143, 133, 144]]]], dtype=uint8)"
            ]
          },
          "metadata": {},
          "execution_count": 10
        }
      ]
    },
    {
      "cell_type": "code",
      "metadata": {
        "colab": {
          "base_uri": "https://localhost:8080/"
        },
        "id": "1lmsVDaYbGej",
        "outputId": "10685854-ff05-4045-f8f4-be7d552512a3"
      },
      "source": [
        "y_train[0:2]"
      ],
      "execution_count": 11,
      "outputs": [
        {
          "output_type": "execute_result",
          "data": {
            "text/plain": [
              "array([[6],\n",
              "       [9]], dtype=uint8)"
            ]
          },
          "metadata": {},
          "execution_count": 11
        }
      ]
    },
    {
      "cell_type": "markdown",
      "metadata": {
        "id": "0ibMq0Tud4Q7"
      },
      "source": [
        "We can see that immages are in array format."
      ]
    },
    {
      "cell_type": "code",
      "metadata": {
        "colab": {
          "base_uri": "https://localhost:8080/"
        },
        "id": "ydP5ezHXd35y",
        "outputId": "b33bb8d1-091a-485e-f3dd-125f362e91a6"
      },
      "source": [
        "#checking total number of classis and immages in each class in training dataset\n",
        "unique, counts = np.unique(y_train, return_counts=True)\n",
        "train_classes=dict(zip(unique, counts))\n",
        "print(train_classes)"
      ],
      "execution_count": 12,
      "outputs": [
        {
          "output_type": "stream",
          "text": [
            "{0: 5000, 1: 5000, 2: 5000, 3: 5000, 4: 5000, 5: 5000, 6: 5000, 7: 5000, 8: 5000, 9: 5000}\n"
          ],
          "name": "stdout"
        }
      ]
    },
    {
      "cell_type": "markdown",
      "metadata": {
        "id": "G7M5n3GukK0B"
      },
      "source": [
        "Totel number of classes are ten and each class have 5000 immages in training set."
      ]
    },
    {
      "cell_type": "code",
      "metadata": {
        "colab": {
          "base_uri": "https://localhost:8080/"
        },
        "id": "EetM8ikihWOG",
        "outputId": "f8a8bbc3-0369-4b51-cc58-f42528c2c629"
      },
      "source": [
        "#checking total number of classis and immages in each class in training dataset\n",
        "unique, counts = np.unique(y_test, return_counts=True)\n",
        "test_classes=dict(zip(unique, counts))\n",
        "print(test_classes)"
      ],
      "execution_count": 13,
      "outputs": [
        {
          "output_type": "stream",
          "text": [
            "{0: 1000, 1: 1000, 2: 1000, 3: 1000, 4: 1000, 5: 1000, 6: 1000, 7: 1000, 8: 1000, 9: 1000}\n"
          ],
          "name": "stdout"
        }
      ]
    },
    {
      "cell_type": "markdown",
      "metadata": {
        "id": "qDMY8xvikVea"
      },
      "source": [
        "Total number of classes are ten and each class have 1000 immages in test set."
      ]
    },
    {
      "cell_type": "code",
      "metadata": {
        "colab": {
          "base_uri": "https://localhost:8080/",
          "height": 513
        },
        "id": "cMGtVlIqiSxV",
        "outputId": "617bccc5-79c5-4442-f2c6-e92575790207"
      },
      "source": [
        "#No of immages in training set\n",
        "plt.figure(figsize=(6,8))\n",
        "plt.scatter(train_classes.keys(),train_classes.values())\n",
        "plt.xlabel(\"classes\")\n",
        "plt.ylabel('total immages')\n",
        "plt.title(\"Immages in each class\")\n",
        "plt.show()\n"
      ],
      "execution_count": 14,
      "outputs": [
        {
          "output_type": "display_data",
          "data": {
            "image/png": "[encoded data removed]",
            "text/plain": [
              "<Figure size 432x576 with 1 Axes>"
            ]
          },
          "metadata": {
            "needs_background": "light"
          }
        }
      ]
    },
    {
      "cell_type": "code",
      "metadata": {
        "colab": {
          "base_uri": "https://localhost:8080/",
          "height": 513
        },
        "id": "3HQ9_cKnjHbS",
        "outputId": "1b51b43a-6fd8-44e5-d1e1-d0d6f239f59a"
      },
      "source": [
        "#No of immages in test set\n",
        "plt.figure(figsize=(6,8))\n",
        "plt.scatter(test_classes.keys(),test_classes.values())\n",
        "plt.xlabel(\"classes\")\n",
        "plt.ylabel('total immages')\n",
        "plt.title(\"Immages in each class\")\n",
        "plt.show()"
      ],
      "execution_count": 15,
      "outputs": [
        {
          "output_type": "display_data",
          "data": {
            "image/png": "[encoded data removed]",
            "text/plain": [
              "<Figure size 432x576 with 1 Axes>"
            ]
          },
          "metadata": {
            "needs_background": "light"
          }
        }
      ]
    },
    {
      "cell_type": "markdown",
      "metadata": {
        "id": "mgcySTatj0Md"
      },
      "source": [
        "Now counting the total immages in each set/folder"
      ]
    },
    {
      "cell_type": "code",
      "metadata": {
        "colab": {
          "base_uri": "https://localhost:8080/"
        },
        "id": "HGvbzDqAMb9w",
        "outputId": "81c3f8b3-6247-4a56-b9f3-9231adc178b2"
      },
      "source": [
        "lst=[x_train,y_train,x_test,y_test]\n",
        "No_of_immages=[]\n",
        "for x in lst:\n",
        "  y=len(x)\n",
        "  No_of_immages.append(y)\n",
        "print(No_of_immages)"
      ],
      "execution_count": 16,
      "outputs": [
        {
          "output_type": "stream",
          "text": [
            "[50000, 50000, 10000, 10000]\n"
          ],
          "name": "stdout"
        }
      ]
    },
    {
      "cell_type": "code",
      "metadata": {
        "colab": {
          "base_uri": "https://localhost:8080/"
        },
        "id": "RDNpSM-XV7Ph",
        "outputId": "2d5fd06c-0d70-45b1-9d26-b02687895b59"
      },
      "source": [
        "list1=['x_train',\"y_train\",\"x_test\",\"y_test\"]\n",
        "dict1={}\n",
        "for key in list1:\n",
        "  for  value in No_of_immages:\n",
        "    dict1[key]=value\n",
        "    No_of_immages.remove(value)\n",
        "    break  \n",
        "print(dict1)\n"
      ],
      "execution_count": 17,
      "outputs": [
        {
          "output_type": "stream",
          "text": [
            "{'x_train': 50000, 'y_train': 50000, 'x_test': 10000, 'y_test': 10000}\n"
          ],
          "name": "stdout"
        }
      ]
    },
    {
      "cell_type": "code",
      "metadata": {
        "colab": {
          "base_uri": "https://localhost:8080/"
        },
        "id": "QBo7f3M8YBwz",
        "outputId": "dff9afce-f184-4e41-80dc-566f7ac99669"
      },
      "source": [
        "dict1"
      ],
      "execution_count": 18,
      "outputs": [
        {
          "output_type": "execute_result",
          "data": {
            "text/plain": [
              "{'x_test': 10000, 'x_train': 50000, 'y_test': 10000, 'y_train': 50000}"
            ]
          },
          "metadata": {},
          "execution_count": 18
        }
      ]
    },
    {
      "cell_type": "code",
      "metadata": {
        "colab": {
          "base_uri": "https://localhost:8080/",
          "height": 514
        },
        "id": "pkd3dnZdvvpn",
        "outputId": "90e40585-2259-4d04-80f0-33df91ee2bf3"
      },
      "source": [
        "#No of immages \n",
        "plt.figure(figsize=(6,8))\n",
        "plt.bar(dict1.keys(),dict1.values())\n",
        "plt.xlabel(\"Set\")\n",
        "plt.ylabel('No of immages')\n",
        "plt.title(\"Immages in each set/folder\")\n",
        "plt.show()\n"
      ],
      "execution_count": 19,
      "outputs": [
        {
          "output_type": "display_data",
          "data": {
            "image/png": "[encoded data removed]",
            "text/plain": [
              "<Figure size 432x576 with 1 Axes>"
            ]
          },
          "metadata": {
            "needs_background": "light"
          }
        }
      ]
    },
    {
      "cell_type": "code",
      "metadata": {
        "id": "g5s-igc9Z6km"
      },
      "source": [
        "#Plotting some of immages in training dataset\n",
        "def plot_immage(start,end,set1):\n",
        "  \n",
        "  #j=1\n",
        "  for x in range(start,end):\n",
        "    \n",
        "    # reading image from directory\n",
        "    image = set1[x]\n",
        "    \n",
        "    #plt.subplot(1,5,j)\n",
        "    # calling imshow() using plt object\n",
        "    plt.imshow(image)\n",
        "    # displaying the image\n",
        "    plt.show()\n",
        "    #j+=1"
      ],
      "execution_count": 20,
      "outputs": []
    },
    {
      "cell_type": "code",
      "metadata": {
        "colab": {
          "base_uri": "https://localhost:8080/",
          "height": 1000
        },
        "id": "zc2IyzVnPdVr",
        "outputId": "689caec4-e510-46f7-fb76-c40bd481c2fb"
      },
      "source": [
        "#If we want to show some immages in different data sets\n",
        "print(\"_________immages in training data____________\")\n",
        "plot_immage(10,15,x_train)# plotting some immages in training set\n",
        "print(\"\")\n",
        "print(\"_________Some of immages in test data____________\")\n",
        "plot_test=plot_immage(100,105,x_test)# plotting some immage in test set"
      ],
      "execution_count": 21,
      "outputs": [
        {
          "output_type": "stream",
          "text": [
            "_________immages in training data____________\n"
          ],
          "name": "stdout"
        },
        {
          "output_type": "display_data",
          "data": {
            "image/png": "[encoded data removed]",
            "text/plain": [
              "<Figure size 432x288 with 1 Axes>"
            ]
          },
          "metadata": {
            "needs_background": "light"
          }
        },
        {
          "output_type": "display_data",
          "data": {
            "image/png": "[encoded data removed]",
            "text/plain": [
              "<Figure size 432x288 with 1 Axes>"
            ]
          },
          "metadata": {
            "needs_background": "light"
          }
        },
        {
          "output_type": "display_data",
          "data": {
            "image/png": "[encoded data removed]",
            "text/plain": [
              "<Figure size 432x288 with 1 Axes>"
            ]
          },
          "metadata": {
            "needs_background": "light"
          }
        },
        {
          "output_type": "display_data",
          "data": {
            "image/png": "[encoded data removed]",
            "text/plain": [
              "<Figure size 432x288 with 1 Axes>"
            ]
          },
          "metadata": {
            "needs_background": "light"
          }
        },
        {
          "output_type": "display_data",
          "data": {
            "image/png": "[encoded data removed]",
            "text/plain": [
              "<Figure size 432x288 with 1 Axes>"
            ]
          },
          "metadata": {
            "needs_background": "light"
          }
        },
        {
          "output_type": "stream",
          "text": [
            "\n",
            "_________Some of immages in test data____________\n"
          ],
          "name": "stdout"
        },
        {
          "output_type": "display_data",
          "data": {
            "image/png": "[encoded data removed]",
            "text/plain": [
              "<Figure size 432x288 with 1 Axes>"
            ]
          },
          "metadata": {
            "needs_background": "light"
          }
        },
        {
          "output_type": "display_data",
          "data": {
            "image/png": "[encoded data removed]",
            "text/plain": [
              "<Figure size 432x288 with 1 Axes>"
            ]
          },
          "metadata": {
            "needs_background": "light"
          }
        },
        {
          "output_type": "display_data",
          "data": {
            "image/png": "[encoded data removed]",
            "text/plain": [
              "<Figure size 432x288 with 1 Axes>"
            ]
          },
          "metadata": {
            "needs_background": "light"
          }
        },
        {
          "output_type": "display_data",
          "data": {
            "image/png": "[encoded data removed]",
            "text/plain": [
              "<Figure size 432x288 with 1 Axes>"
            ]
          },
          "metadata": {
            "needs_background": "light"
          }
        },
        {
          "output_type": "display_data",
          "data": {
            "image/png": "[encoded data removed]",
            "text/plain": [
              "<Figure size 432x288 with 1 Axes>"
            ]
          },
          "metadata": {
            "needs_background": "light"
          }
        }
      ]
    },
    {
      "cell_type": "code",
      "metadata": {
        "colab": {
          "base_uri": "https://localhost:8080/"
        },
        "id": "YjuaBDdvqbWB",
        "outputId": "794c9275-abf1-49b9-f87d-e94aef5b69ae"
      },
      "source": [
        "print(x_train.max())\n",
        "print(x_test.max())"
      ],
      "execution_count": 22,
      "outputs": [
        {
          "output_type": "stream",
          "text": [
            "255\n",
            "255\n"
          ],
          "name": "stdout"
        }
      ]
    },
    {
      "cell_type": "code",
      "metadata": {
        "colab": {
          "base_uri": "https://localhost:8080/"
        },
        "id": "8EEDuId5tdUG",
        "outputId": "ff7b9487-e77b-418c-a58b-02fff09c80d7"
      },
      "source": [
        "print(x_train.min())\n",
        "print(x_test.min())"
      ],
      "execution_count": 23,
      "outputs": [
        {
          "output_type": "stream",
          "text": [
            "0\n",
            "0\n"
          ],
          "name": "stdout"
        }
      ]
    },
    {
      "cell_type": "code",
      "metadata": {
        "colab": {
          "base_uri": "https://localhost:8080/"
        },
        "id": "ElLog_0TusGU",
        "outputId": "04bf72b7-d223-4dc0-f509-2565c371e596"
      },
      "source": [
        "x_train.shape"
      ],
      "execution_count": 24,
      "outputs": [
        {
          "output_type": "execute_result",
          "data": {
            "text/plain": [
              "(50000, 32, 32, 3)"
            ]
          },
          "metadata": {},
          "execution_count": 24
        }
      ]
    },
    {
      "cell_type": "code",
      "metadata": {
        "colab": {
          "base_uri": "https://localhost:8080/"
        },
        "id": "cnOwtY4fvBs-",
        "outputId": "4027daa3-a52b-4686-ceb5-3bfcbbfd23e6"
      },
      "source": [
        "x_test.shape"
      ],
      "execution_count": 25,
      "outputs": [
        {
          "output_type": "execute_result",
          "data": {
            "text/plain": [
              "(10000, 32, 32, 3)"
            ]
          },
          "metadata": {},
          "execution_count": 25
        }
      ]
    },
    {
      "cell_type": "code",
      "metadata": {
        "id": "4DWJ0tfcwSq0"
      },
      "source": [
        "# normalizing\n",
        "x_train =x_train/ 255\n",
        "x_test= x_test/ 255"
      ],
      "execution_count": 26,
      "outputs": []
    },
    {
      "cell_type": "code",
      "metadata": {
        "colab": {
          "base_uri": "https://localhost:8080/"
        },
        "id": "iFpjx2frw5xC",
        "outputId": "732f1209-4f15-43d6-f3fd-1808a3ce2e3f"
      },
      "source": [
        "print(f\"shape of y_train before one-hot encoding{y_train.shape}\")\n",
        "print(f\"shape of y_test before one-hot encoding{y_test.shape}\")"
      ],
      "execution_count": 27,
      "outputs": [
        {
          "output_type": "stream",
          "text": [
            "shape of y_train before one-hot encoding(50000, 1)\n",
            "shape of y_test before one-hot encoding(10000, 1)\n"
          ],
          "name": "stdout"
        }
      ]
    },
    {
      "cell_type": "code",
      "metadata": {
        "id": "2CdlqyjLyH3B"
      },
      "source": [
        "#one-hot encoding\n",
        "total_classes=10\n",
        "y_train_en = to_categorical(y_train, total_classes)\n",
        "y_test_en = to_categorical(y_test, total_classes)\n"
      ],
      "execution_count": 28,
      "outputs": []
    },
    {
      "cell_type": "code",
      "metadata": {
        "colab": {
          "base_uri": "https://localhost:8080/"
        },
        "id": "NsnjJyK9x9Qr",
        "outputId": "e1599054-6747-42f4-e11e-ac39e771be62"
      },
      "source": [
        "print(f\"shape of y_train after one-hot encoding{y_train.shape}\")\n",
        "print(f\"shape of y_test after one-hot encoding{y_test.shape}\")"
      ],
      "execution_count": 29,
      "outputs": [
        {
          "output_type": "stream",
          "text": [
            "shape of y_train after one-hot encoding(50000, 1)\n",
            "shape of y_test after one-hot encoding(10000, 1)\n"
          ],
          "name": "stdout"
        }
      ]
    },
    {
      "cell_type": "code",
      "metadata": {
        "id": "Ir2vT29rz7We"
      },
      "source": [
        "#building the model\n",
        "model = Sequential()\n",
        "\n",
        "model.add(Conv2D(filters=32, kernel_size=(3,3),input_shape=(32, 32, 3), activation='relu',))\n",
        "model.add(Conv2D(64, kernel_size=(3, 3), activation='relu', padding='same'))\n",
        "model.add(BatchNormalization())\n",
        "model.add(MaxPooling2D(2, 2))\n",
        "model.add(Dropout(0.25))\n",
        "\n",
        "model.add(Conv2D(filters=128, kernel_size=(3,3), activation='relu',padding='same'))\n",
        "model.add(Conv2D(256, kernel_size=(3, 3), activation='relu', padding='same'))\n",
        "model.add(BatchNormalization())\n",
        "model.add(MaxPooling2D(2, 2))\n",
        "model.add(Dropout(0.25))\n",
        "\n",
        "model.add(Flatten())\n",
        "model.add(Dense(128, activation='relu'))\n",
        "model.add(Dropout(0.2))\n",
        "model.add(Dense(64, activation='relu'))\n",
        "model.add(Dropout(0.2))\n",
        "model.add(Dense(32, activation='relu'))\n",
        "model.add(Dropout(0.2))\n",
        "model.add(Dense(10, activation='softmax'))"
      ],
      "execution_count": 30,
      "outputs": []
    },
    {
      "cell_type": "code",
      "metadata": {
        "colab": {
          "base_uri": "https://localhost:8080/"
        },
        "id": "F3pm0vSK0iTc",
        "outputId": "7ab14d41-40a7-4b90-8f33-9a6c4616ee6c"
      },
      "source": [
        "\n",
        "model.compile(loss='categorical_crossentropy',\n",
        "              optimizer='adam',\n",
        "              metrics=['accuracy'])\n",
        "model.summary()"
      ],
      "execution_count": 31,
      "outputs": [
        {
          "output_type": "stream",
          "text": [
            "Model: \"sequential\"\n",
            "_________________________________________________________________\n",
            "Layer (type)                 Output Shape              Param #   \n",
            "=================================================================\n",
            "conv2d (Conv2D)              (None, 30, 30, 32)        896       \n",
            "_________________________________________________________________\n",
            "conv2d_1 (Conv2D)            (None, 30, 30, 64)        18496     \n",
            "_________________________________________________________________\n",
            "batch_normalization (BatchNo (None, 30, 30, 64)        256       \n",
            "_________________________________________________________________\n",
            "max_pooling2d (MaxPooling2D) (None, 15, 15, 64)        0         \n",
            "_________________________________________________________________\n",
            "dropout (Dropout)            (None, 15, 15, 64)        0         \n",
            "_________________________________________________________________\n",
            "conv2d_2 (Conv2D)            (None, 15, 15, 128)       73856     \n",
            "_________________________________________________________________\n",
            "conv2d_3 (Conv2D)            (None, 15, 15, 256)       295168    \n",
            "_________________________________________________________________\n",
            "batch_normalization_1 (Batch (None, 15, 15, 256)       1024      \n",
            "_________________________________________________________________\n",
            "max_pooling2d_1 (MaxPooling2 (None, 7, 7, 256)         0         \n",
            "_________________________________________________________________\n",
            "dropout_1 (Dropout)          (None, 7, 7, 256)         0         \n",
            "_________________________________________________________________\n",
            "flatten (Flatten)            (None, 12544)             0         \n",
            "_________________________________________________________________\n",
            "dense (Dense)                (None, 128)               1605760   \n",
            "_________________________________________________________________\n",
            "dropout_2 (Dropout)          (None, 128)               0         \n",
            "_________________________________________________________________\n",
            "dense_1 (Dense)              (None, 64)                8256      \n",
            "_________________________________________________________________\n",
            "dropout_3 (Dropout)          (None, 64)                0         \n",
            "_________________________________________________________________\n",
            "dense_2 (Dense)              (None, 32)                2080      \n",
            "_________________________________________________________________\n",
            "dropout_4 (Dropout)          (None, 32)                0         \n",
            "_________________________________________________________________\n",
            "dense_3 (Dense)              (None, 10)                330       \n",
            "=================================================================\n",
            "Total params: 2,006,122\n",
            "Trainable params: 2,005,482\n",
            "Non-trainable params: 640\n",
            "_________________________________________________________________\n"
          ],
          "name": "stdout"
        }
      ]
    },
    {
      "cell_type": "code",
      "metadata": {
        "colab": {
          "base_uri": "https://localhost:8080/"
        },
        "id": "x1ABTk-f1HzK",
        "outputId": "6c5b1cc9-eaa5-4bba-bfd1-5032866f49ad"
      },
      "source": [
        "# training the model for 10 epochs\n",
        "model.fit(x_train, y_train_en, batch_size=128, epochs=20, validation_data=(x_test, y_test_en))\n",
        "model.save_weights('first_try.h5')  # always save weights after training or during training"
      ],
      "execution_count": 32,
      "outputs": [
        {
          "output_type": "stream",
          "text": [
            "Epoch 1/20\n",
            "391/391 [==============================] - 48s 46ms/step - loss: 1.8953 - accuracy: 0.3172 - val_loss: 1.9120 - val_accuracy: 0.3339\n",
            "Epoch 2/20\n",
            "391/391 [==============================] - 17s 44ms/step - loss: 1.3832 - accuracy: 0.5084 - val_loss: 1.2476 - val_accuracy: 0.5648\n",
            "Epoch 3/20\n",
            "391/391 [==============================] - 17s 44ms/step - loss: 1.1582 - accuracy: 0.6017 - val_loss: 1.1135 - val_accuracy: 0.6214\n",
            "Epoch 4/20\n",
            "391/391 [==============================] - 18s 45ms/step - loss: 1.0155 - accuracy: 0.6543 - val_loss: 0.9368 - val_accuracy: 0.6843\n",
            "Epoch 5/20\n",
            "391/391 [==============================] - 17s 44ms/step - loss: 0.9132 - accuracy: 0.6968 - val_loss: 0.9126 - val_accuracy: 0.7057\n",
            "Epoch 6/20\n",
            "391/391 [==============================] - 17s 44ms/step - loss: 0.8250 - accuracy: 0.7261 - val_loss: 0.9995 - val_accuracy: 0.6769\n",
            "Epoch 7/20\n",
            "391/391 [==============================] - 17s 44ms/step - loss: 0.7544 - accuracy: 0.7505 - val_loss: 0.7453 - val_accuracy: 0.7595\n",
            "Epoch 8/20\n",
            "391/391 [==============================] - 17s 44ms/step - loss: 0.6906 - accuracy: 0.7739 - val_loss: 0.7166 - val_accuracy: 0.7668\n",
            "Epoch 9/20\n",
            "391/391 [==============================] - 17s 44ms/step - loss: 0.6351 - accuracy: 0.7916 - val_loss: 0.7534 - val_accuracy: 0.7501\n",
            "Epoch 10/20\n",
            "391/391 [==============================] - 17s 44ms/step - loss: 0.5849 - accuracy: 0.8099 - val_loss: 0.7691 - val_accuracy: 0.7549\n",
            "Epoch 11/20\n",
            "391/391 [==============================] - 17s 44ms/step - loss: 0.5384 - accuracy: 0.8237 - val_loss: 0.7230 - val_accuracy: 0.7666\n",
            "Epoch 12/20\n",
            "391/391 [==============================] - 17s 44ms/step - loss: 0.5034 - accuracy: 0.8375 - val_loss: 0.7331 - val_accuracy: 0.7712\n",
            "Epoch 13/20\n",
            "391/391 [==============================] - 17s 44ms/step - loss: 0.4746 - accuracy: 0.8463 - val_loss: 0.7011 - val_accuracy: 0.7796\n",
            "Epoch 14/20\n",
            "391/391 [==============================] - 17s 44ms/step - loss: 0.4337 - accuracy: 0.8583 - val_loss: 0.7445 - val_accuracy: 0.7674\n",
            "Epoch 15/20\n",
            "391/391 [==============================] - 17s 43ms/step - loss: 0.4080 - accuracy: 0.8667 - val_loss: 0.7852 - val_accuracy: 0.7841\n",
            "Epoch 16/20\n",
            "391/391 [==============================] - 17s 44ms/step - loss: 0.3896 - accuracy: 0.8735 - val_loss: 0.7528 - val_accuracy: 0.7872\n",
            "Epoch 17/20\n",
            "391/391 [==============================] - 17s 45ms/step - loss: 0.3541 - accuracy: 0.8861 - val_loss: 0.7168 - val_accuracy: 0.7914\n",
            "Epoch 18/20\n",
            "391/391 [==============================] - 17s 45ms/step - loss: 0.3377 - accuracy: 0.8901 - val_loss: 0.7113 - val_accuracy: 0.7958\n",
            "Epoch 19/20\n",
            "391/391 [==============================] - 17s 45ms/step - loss: 0.3250 - accuracy: 0.8953 - val_loss: 0.7785 - val_accuracy: 0.7835\n",
            "Epoch 20/20\n",
            "391/391 [==============================] - 17s 45ms/step - loss: 0.3056 - accuracy: 0.9011 - val_loss: 0.7472 - val_accuracy: 0.7923\n"
          ],
          "name": "stdout"
        }
      ]
    },
    {
      "cell_type": "code",
      "metadata": {
        "id": "FXWJDP_Q5jRk"
      },
      "source": [
        "import pickle\n",
        "#Saving the model\n",
        "#filename = 'finalized_model.sav'\n",
        "#pickle.dump(model, open(filename, 'wb'))"
      ],
      "execution_count": 1,
      "outputs": []
    },
    {
      "cell_type": "code",
      "metadata": {
        "id": "DYFJEtT85kCd"
      },
      "source": [
        "#Reloading the model\n",
        "\n",
        "#loaded_model = pickle.load(open(filename, 'rb'))"
      ],
      "execution_count": null,
      "outputs": []
    },
    {
      "cell_type": "code",
      "metadata": {
        "id": "DUtEHN_A5x08"
      },
      "source": [
        "#model loss\n",
        "plt.plot(history.history['loss'])\n",
        "plt.plot(history.history['val_loss'])\n",
        "plt.title('model loss')\n",
        "plt.ylabel('loss')\n",
        "plt.xlabel('epoch')\n",
        "plt.legend(['train', 'test'], loc='upper left')\n",
        "plt.show()"
      ],
      "execution_count": null,
      "outputs": []
    },
    {
      "cell_type": "code",
      "metadata": {
        "id": "YkiWKaKB5y4z"
      },
      "source": [
        "#model accuracy\n",
        "plt.plot(history.history['accuracy'])\n",
        "plt.plot(history.history['val_accuracy'])\n",
        "plt.title('model accuracy')\n",
        "plt.ylabel('accuracy')\n",
        "plt.xlabel('epoch')\n",
        "plt.legend(['train', 'test'], loc='upper left')\n",
        "plt.show()"
      ],
      "execution_count": null,
      "outputs": []
    },
    {
      "cell_type": "code",
      "metadata": {
        "id": "QBmKuHPT7bTw"
      },
      "source": [
        "#model evaluation for test set\n",
        "loss, accuracy=model.evaluate(x_test,y_test_en,verbose=0)\n",
        "print(loss)\n",
        "print(accuracy)"
      ],
      "execution_count": null,
      "outputs": []
    },
    {
      "cell_type": "code",
      "metadata": {
        "id": "xM9ENbRY73kU"
      },
      "source": [
        "#model evaluation for training set\n",
        "loss, accuracy=model.evaluate(x_train,y_train_en,verbose=0)\n",
        "print(loss)\n",
        "print(accuracy)"
      ],
      "execution_count": null,
      "outputs": []
    },
    {
      "cell_type": "code",
      "metadata": {
        "id": "MDJ_VtfE9k_T"
      },
      "source": [
        "#prediction\n",
        "y_pred = np.argmax(model.predict(x_test), axis=-1)"
      ],
      "execution_count": null,
      "outputs": []
    },
    {
      "cell_type": "code",
      "metadata": {
        "id": "5RqJtTj496bB"
      },
      "source": [
        "#confussion metrix\n",
        "confusion_matrix(y_test,y_pred)"
      ],
      "execution_count": null,
      "outputs": []
    },
    {
      "cell_type": "code",
      "metadata": {
        "id": "LfWnFIrO9qUQ"
      },
      "source": [
        "#classification report\n",
        "print(classification_report(y_test,y_pred))"
      ],
      "execution_count": null,
      "outputs": []
    }
  ]
}